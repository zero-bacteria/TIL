{
 "cells": [
  {
   "cell_type": "markdown",
   "metadata": {},
   "source": [
    "<p style=\"font-size: 33px; font-weight: 700; margin-bottom: 3rem\">제어문(Control Statement)</p>\n",
    "\n",
    "[파이썬 문서](https://docs.python.org/ko/3/tutorial/controlflow.html)\n",
    "\n",
    "지금까지 우리는 위에서부터 아래로 순차적으로 명령을 수행하는 프로그램을 작성하였습니다.\n",
    "\n",
    "특정 상황에 따라 코드를 선택적으로 실행(분기)하거나 동일한 코드를 계속해서 실행해야하려면 어떻게 해야할까요? \n",
    "\n",
    "이 경우, **코드 실행의 순차적인 흐름을 제어**(Control Flow)할 필요가 있습니다.\n",
    "\n",
    "이러한 순차적인 코드의 흐름을 제어하는 것을 제어문이라고 하고, 제어문은 크게 **조건문**과 **반복문**으로 나눌 수 있습니다. \n",
    "\n",
    "제어문을 통해 다음과 순서도(Flow Chart)를 코드로 표현할 수 있습니다."
   ]
  },
  {
   "cell_type": "markdown",
   "metadata": {},
   "source": [
    "<center> \n",
    "    <img src=\"https://user-images.githubusercontent.com/18046097/61180553-25e87b00-a653-11e9-9895-7976d7204734.png\", alt='if flowchart'/>\n",
    "</center>"
   ]
  },
  {
   "cell_type": "code",
   "execution_count": null,
   "metadata": {},
   "outputs": [],
   "source": [
    "# 위의 Flow Chart를 조건문으로 작성해봅시다."
   ]
  },
  {
   "cell_type": "code",
   "execution_count": 1,
   "metadata": {},
   "outputs": [
    {
     "name": "stdout",
     "output_type": "stream",
     "text": [
      "5 이하\n",
      "5\n"
     ]
    }
   ],
   "source": [
    "a = 5\n",
    "if a > 5:\n",
    "    print('5 초과')\n",
    "else:\n",
    "    print('5 이하')\n",
    "print(a)"
   ]
  },
  {
   "cell_type": "markdown",
   "metadata": {},
   "source": [
    "# 조건문(Conditional Statement)\n",
    "\n",
    "`if` 문은 반드시 **참/거짓을 판단할 수 있는 조건**과 함께 사용이 되어야한다.\n"
   ]
  },
  {
   "cell_type": "markdown",
   "metadata": {},
   "source": [
    "## `if` 조건문의 구성\n",
    "\n",
    "### 활용법\n",
    "\n",
    "- **문법**\n",
    "\n",
    "```python\n",
    "if <expression>:\n",
    "    <코드 블럭>\n",
    "else:\n",
    "    <코드 블럭>\n",
    "```\n",
    "\n",
    "- **예시**\n",
    "\n",
    "```python\n",
    "if a > 0:\n",
    "    print('양수입니다.')\n",
    "else:\n",
    "    print('음수입니다.')\n",
    "```\n",
    "* `expression`에는 일반적으로 참/거짓에 대한 조건식이 들어간다.\n",
    "\n",
    "* **조건**이 **참**인 경우 `:` 이후의 문장을 수행한다.\n",
    "\n",
    "* **조건**이 **거짓**인 경우 `else:` 이후의 문장을 수행한다.\n",
    "\n",
    "* 여러 개의 `elif` 부가 있을 수 있고(없거나), `else`는 선택적이다.\n",
    "\n",
    "### 주의사항\n",
    "* 이때 반드시 **들여쓰기**를 유의해야한다. \n",
    "    - 파이썬에서는 코드 블록을 자바나 C언어의 `{}`와 달리 **들여쓰기**로 판단하기 때문이다.\n",
    "* 앞으로 우리는 [PEP 8](https://www.python.org/dev/peps/pep-0008/#indentation)에서 권장하는 **4spaces**를 사용할 것이다.\n"
   ]
  },
  {
   "cell_type": "markdown",
   "metadata": {},
   "source": [
    "<center>\n",
    "    <img src=\"https://user-images.githubusercontent.com/18046097/61180564-3a2c7800-a653-11e9-9fba-d60d2688ed3a.png\", alt=\"if style\"/>\n",
    "</center>"
   ]
  },
  {
   "cell_type": "markdown",
   "metadata": {},
   "source": [
    "<br>\n",
    "\n",
    "<center>\n",
    "    <img src=\"https://user-images.githubusercontent.com/18046097/61180566-3ac50e80-a653-11e9-81a6-2f195eeb0a65.png\", alt=\"[space vs tab]\"/>\n",
    "</center>    \n",
    "\n",
    "\n",
    "\n",
    "\n",
    "[출처 : 400,000 GitHub repositories, 1 billion files, 14 terabytes of code: Spaces or Tabs?](https://medium.com/@hoffa/400-000-github-repositories-1-billion-files-14-terabytes-of-code-spaces-or-tabs-7cfe0b5dd7fd)\n"
   ]
  },
  {
   "cell_type": "markdown",
   "metadata": {},
   "source": [
    "### [연습] 크리스마스 판독기\n",
    "> 조건문을 통해 사용자가 입력한 날짜가 크리스마스인지 확인하세요.\n",
    "\n",
    "---\n",
    "\n",
    "**[입력 예시]**\n",
    "\n",
    "12/25\n",
    "\n",
    "**[출력 예시]**\n",
    "\n",
    "크리스마스입니다."
   ]
  },
  {
   "cell_type": "code",
   "execution_count": 2,
   "metadata": {},
   "outputs": [
    {
     "name": "stdout",
     "output_type": "stream",
     "text": [
      "날짜를 입력해주세요 ex)12/24 : 12/25\n",
      "12/25\n"
     ]
    }
   ],
   "source": [
    "is_christmas = input('날짜를 입력해주세요 ex)12/24 : ')\n",
    "print(is_christmas)\n",
    "# 아래에 코드를 작성하세요"
   ]
  },
  {
   "cell_type": "code",
   "execution_count": null,
   "metadata": {},
   "outputs": [],
   "source": [
    "print(is_christmas)\n",
    "if is_christmas =="
   ]
  },
  {
   "cell_type": "code",
   "execution_count": 4,
   "metadata": {},
   "outputs": [
    {
     "name": "stdout",
     "output_type": "stream",
     "text": [
      "12/25\n",
      "크리스마스입니다.\n"
     ]
    }
   ],
   "source": [
    " '12/25':\n",
    "    print('크리스마스입니다.')\n",
    "else:\n",
    "    print('크리스마스가 아닙니다.')"
   ]
  },
  {
   "cell_type": "markdown",
   "metadata": {},
   "source": [
    "### [실습] 홀/짝 판독기\n",
    "\n",
    "\n",
    "> 조건문을 통해 변수 num의 값과 홀수/짝수 여부를 출력하세요.\n",
    "\n",
    "---\n",
    "\n",
    "**[입력 예시]**\n",
    "\n",
    "3\n",
    "\n",
    "**[출력 예시]**\n",
    "\n",
    "홀수입니다."
   ]
  },
  {
   "cell_type": "code",
   "execution_count": 12,
   "metadata": {},
   "outputs": [
    {
     "name": "stdout",
     "output_type": "stream",
     "text": [
      "숫자를 입력하세요 : 1\n"
     ]
    }
   ],
   "source": [
    "num = int(input('숫자를 입력하세요 : '))\n",
    "# 아래에 코드를 작성하세요"
   ]
  },
  {
   "cell_type": "code",
   "execution_count": 6,
   "metadata": {},
   "outputs": [
    {
     "name": "stdout",
     "output_type": "stream",
     "text": [
      "5\n"
     ]
    }
   ],
   "source": [
    "print(num)"
   ]
  },
  {
   "cell_type": "code",
   "execution_count": 7,
   "metadata": {},
   "outputs": [
    {
     "data": {
      "text/plain": [
       "1"
      ]
     },
     "execution_count": 7,
     "metadata": {},
     "output_type": "execute_result"
    }
   ],
   "source": [
    "# 홀\n",
    "5 % 2"
   ]
  },
  {
   "cell_type": "code",
   "execution_count": 8,
   "metadata": {
    "scrolled": true
   },
   "outputs": [
    {
     "data": {
      "text/plain": [
       "0"
      ]
     },
     "execution_count": 8,
     "metadata": {},
     "output_type": "execute_result"
    }
   ],
   "source": [
    "# 짝\n",
    "6 % 2"
   ]
  },
  {
   "cell_type": "code",
   "execution_count": 9,
   "metadata": {},
   "outputs": [
    {
     "name": "stdout",
     "output_type": "stream",
     "text": [
      "홀수\n"
     ]
    }
   ],
   "source": [
    "if num % 2 == 1:\n",
    "    # 나머지가 1이니까 홀수\n",
    "    print('홀수')\n",
    "else:\n",
    "    print('짝수')"
   ]
  },
  {
   "cell_type": "code",
   "execution_count": 10,
   "metadata": {},
   "outputs": [
    {
     "name": "stdout",
     "output_type": "stream",
     "text": [
      "홀수\n"
     ]
    }
   ],
   "source": [
    "# 0 -> False\n",
    "# 나머지 모든 숫자는 -> True 대표적 1\n",
    "if num % 2:\n",
    "    print('홀수')\n",
    "else:\n",
    "    print('짝수')"
   ]
  },
  {
   "cell_type": "code",
   "execution_count": 11,
   "metadata": {},
   "outputs": [
    {
     "data": {
      "text/plain": [
       "True"
      ]
     },
     "execution_count": 11,
     "metadata": {},
     "output_type": "execute_result"
    }
   ],
   "source": [
    "bool(num % 2)"
   ]
  },
  {
   "cell_type": "markdown",
   "metadata": {},
   "source": [
    "## `elif` 복수 조건\n",
    "\n",
    "2개 이상의 조건을 활용할 경우 `elif <조건>:`을 활용한다.\n",
    "<center>\n",
    "<img src=\"https://user-images.githubusercontent.com/18046097/61180560-3993e180-a653-11e9-8263-79bd7bc6eed7.png\", alt=\"elif\">\n",
    "</center>"
   ]
  },
  {
   "cell_type": "markdown",
   "metadata": {},
   "source": [
    "### [연습] 복수 조건문 연습\n",
    "\n",
    "> 조건문을 통해 변수 score에 따른 평점을 출력하세요.\n",
    "\n",
    "|점수|등급|\n",
    "|---|---|\n",
    "|90점 이상|A|\n",
    "|80점 이상|B|\n",
    "|70점 이상|C|\n",
    "|60점 이상|D|\n",
    "|60점 미만|F|\n",
    "\n",
    "--- \n",
    "\n",
    "**[입력 예시]**\n",
    "\n",
    "85\n",
    "\n",
    "**[출력 예시]**\n",
    "\n",
    "B"
   ]
  },
  {
   "cell_type": "code",
   "execution_count": 13,
   "metadata": {},
   "outputs": [
    {
     "name": "stdout",
     "output_type": "stream",
     "text": [
      "점수를 입력하세요 : 85\n"
     ]
    }
   ],
   "source": [
    "score = int(input('점수를 입력하세요 : '))\n",
    "\n",
    "# 아래에 코드를 작성하세요"
   ]
  },
  {
   "cell_type": "code",
   "execution_count": 14,
   "metadata": {
    "scrolled": true
   },
   "outputs": [
    {
     "name": "stdout",
     "output_type": "stream",
     "text": [
      "85 <class 'int'>\n"
     ]
    }
   ],
   "source": [
    "print(score, type(score))"
   ]
  },
  {
   "cell_type": "code",
   "execution_count": 16,
   "metadata": {},
   "outputs": [
    {
     "name": "stdout",
     "output_type": "stream",
     "text": [
      "B\n"
     ]
    }
   ],
   "source": [
    "if score >= 90:\n",
    "    print('A')\n",
    "# elif는 특정한 조건을 거는 것이라서\n",
    "# 반드시 조건식이 필요함!\n",
    "elif score >= 80:\n",
    "    print('B')\n",
    "elif score >= 70:\n",
    "    print('C')\n",
    "# else는 나머지 모든 케이스를 뜻하기 때문에, 조건식이 들어갈 수 없음!\n",
    "# else score > 0:  문법 오류!!\n",
    "else:\n",
    "    print('F')"
   ]
  },
  {
   "cell_type": "code",
   "execution_count": 17,
   "metadata": {},
   "outputs": [
    {
     "name": "stdout",
     "output_type": "stream",
     "text": [
      "C\n"
     ]
    }
   ],
   "source": [
    "if score >= 90:\n",
    "    print('A')\n",
    "# 90이상이었으면, 위의 코드가 실행되고 끝났을 것.\n",
    "# 그게 아니니까, 90미만인 숫자일 수 밖에 없음!\n",
    "elif score >= 70:\n",
    "    print('C')\n",
    "elif score >= 80:\n",
    "    print('B')\n",
    "else:\n",
    "    print('F')"
   ]
  },
  {
   "cell_type": "code",
   "execution_count": 18,
   "metadata": {},
   "outputs": [
    {
     "name": "stdout",
     "output_type": "stream",
     "text": [
      "B\n"
     ]
    }
   ],
   "source": [
    "if 90 <= score <= 100:\n",
    "    print('A')\n",
    "elif 70 <= score <= 80:\n",
    "    print('C')\n",
    "elif 80 <= score <= 90:\n",
    "    print('B')\n",
    "else:\n",
    "    print('F')"
   ]
  },
  {
   "cell_type": "markdown",
   "metadata": {},
   "source": [
    "## 중첩 조건문(Nested Conditional Statement)\n",
    "\n",
    "조건문은 다른 조건문에 중첩될 수도 있습니다."
   ]
  },
  {
   "cell_type": "markdown",
   "metadata": {},
   "source": [
    "### [연습] 중첩 조건문 활용\n",
    "\n",
    "> 위 실습문제 2개 코드를 활용하여 \n",
    "95점 이상이면, \"참 잘했어요\"도 함께 출력해주세요.\n",
    "\n",
    "--- \n",
    "**[출력 예시]**\n",
    "\n",
    "A\n",
    "\n",
    "참잘했어요."
   ]
  },
  {
   "cell_type": "code",
   "execution_count": 21,
   "metadata": {},
   "outputs": [],
   "source": [
    "score = 96\n",
    "\n",
    "# 아래에 코드를 작성하세요"
   ]
  },
  {
   "cell_type": "code",
   "execution_count": 22,
   "metadata": {},
   "outputs": [
    {
     "name": "stdout",
     "output_type": "stream",
     "text": [
      "A\n",
      "참잘했어요\n"
     ]
    }
   ],
   "source": [
    "if score >= 90:\n",
    "    print('A')\n",
    "    if score >= 95:\n",
    "        print('참잘했어요')"
   ]
  },
  {
   "cell_type": "markdown",
   "metadata": {},
   "source": [
    "## 조건 표현식(Conditional Expression)\n",
    "\n",
    "* 조건 표현식은 일반적으로 조건에 따라 값을 정할 때 활용된다.\n",
    "\n",
    "* **삼항 연산자(Ternary Operator)**라고 부르기도 한다.\n",
    "\n",
    "---\n",
    "\n",
    "**활용법**\n",
    "\n",
    "```python\n",
    "true_value if <조건식> else false_value\n",
    "```"
   ]
  },
  {
   "cell_type": "code",
   "execution_count": null,
   "metadata": {},
   "outputs": [],
   "source": [
    "num = int(input('숫자를 입력하세요 : '))\n",
    "\n",
    "print('0 보다 큼') if num > 0 else print('0 보다 크지않음')"
   ]
  },
  {
   "cell_type": "code",
   "execution_count": null,
   "metadata": {
    "code_folding": []
   },
   "outputs": [],
   "source": [
    "# 아래의 코드는 무엇을 위한 코드일까요?\n",
    "num = int(input('숫자를 입력하세요 : '))\n",
    "value = num if num >= 0 else -num\n",
    "print(value)"
   ]
  },
  {
   "cell_type": "code",
   "execution_count": null,
   "metadata": {},
   "outputs": [],
   "source": [
    "# 아래에 답변을 작성하세요."
   ]
  },
  {
   "cell_type": "code",
   "execution_count": null,
   "metadata": {},
   "outputs": [],
   "source": [
    "# 절대값 계산기"
   ]
  },
  {
   "cell_type": "markdown",
   "metadata": {},
   "source": [
    "### [연습] 조건 표현식 작성하기\n",
    "\n",
    "> 다음의 코드와 동일한 조건 표현식을 작성해보세요.\n",
    "\n",
    "```python\n",
    "num = 2\n",
    "if num % 2:\n",
    "    result = '홀수입니다.'\n",
    "else:\n",
    "    result = '짝수입니다.'\n",
    "print(result)\n",
    "```\n",
    "---\n",
    "\n",
    "**[출력 예시]**\n",
    "```\n",
    "짝수입니다.\n",
    "```"
   ]
  },
  {
   "cell_type": "code",
   "execution_count": null,
   "metadata": {},
   "outputs": [],
   "source": [
    "# 아래에 코드를 작성하세요."
   ]
  },
  {
   "cell_type": "code",
   "execution_count": 1,
   "metadata": {},
   "outputs": [
    {
     "name": "stdout",
     "output_type": "stream",
     "text": [
      "2\n"
     ]
    }
   ],
   "source": [
    "num = int(input())"
   ]
  },
  {
   "cell_type": "code",
   "execution_count": 2,
   "metadata": {},
   "outputs": [
    {
     "name": "stdout",
     "output_type": "stream",
     "text": [
      "짝수입니다\n"
     ]
    }
   ],
   "source": [
    "result = '홀수입니다' if num % 2 else '짝수입니다'\n",
    "print(result)"
   ]
  },
  {
   "cell_type": "markdown",
   "metadata": {},
   "source": [
    "### [실습] 조건 표현식과 동일한 if 문 작성하기\n",
    "\n",
    "> 다음의 코드와 동일한 `if`문을 작성해보세요.\n",
    "\n",
    "```python\n",
    "num = -5\n",
    "value = num if num >= 0 else 0\n",
    "print(value)\n",
    "```\n",
    "---\n",
    "**[출력 예시]**\n",
    "\n",
    "0"
   ]
  },
  {
   "cell_type": "code",
   "execution_count": null,
   "metadata": {},
   "outputs": [],
   "source": [
    "# 아래에 코드를 작성하세요."
   ]
  },
  {
   "cell_type": "code",
   "execution_count": 3,
   "metadata": {},
   "outputs": [
    {
     "name": "stdout",
     "output_type": "stream",
     "text": [
      "0\n"
     ]
    }
   ],
   "source": [
    "num = -5\n",
    "\n",
    "if num >= 0:\n",
    "    value = num\n",
    "else:\n",
    "    value = 0\n",
    "print(value)"
   ]
  },
  {
   "cell_type": "markdown",
   "metadata": {},
   "source": [
    "---"
   ]
  },
  {
   "cell_type": "markdown",
   "metadata": {},
   "source": [
    "# 반복문(Loop Statement)\n",
    "\n",
    "- while\n",
    "- for"
   ]
  },
  {
   "cell_type": "markdown",
   "metadata": {},
   "source": [
    "## `while` 반복문\n",
    "\n",
    "`while` 문은 조건식이 참(`True`)인 경우 반복적으로 코드를 실행한다.\n",
    "\n",
    "\n",
    "### 활용법\n",
    "- **문법**\n",
    "\n",
    "```python\n",
    "while <조건식>:\n",
    "    <코드 블럭>\n",
    "```\n",
    "\n",
    "- 예시\n",
    "\n",
    "```python\n",
    "while True:\n",
    "    print('조건식이 참일 때까지')\n",
    "    print('계속 반복')\n",
    "```\n",
    "\n",
    "### 주의사항\n",
    "* `while` 문 역시 조건식 뒤에 콜론(`:`)이 반드시 필요하며, 이후 실행될 코드 블럭은 **4spaces**로 **들여쓰기**를 한다.\n",
    "* **반드시 종료조건을 설정해야 한다.**\n",
    "\n",
    "\n",
    "<br>\n",
    "<center>\n",
    "    <img src=\"https://user-images.githubusercontent.com/18046097/61180567-3ac50e80-a653-11e9-9f12-39c404f4be30.png\", alt=\"\">\n",
    "</center>"
   ]
  },
  {
   "cell_type": "markdown",
   "metadata": {},
   "source": [
    "<br>\n",
    "<center>\n",
    "    <img src=\"https://user-images.githubusercontent.com/18046097/61180568-3ac50e80-a653-11e9-9960-ba15137290a6.png\", alt=\"while\"/>\n",
    "</center>"
   ]
  },
  {
   "cell_type": "code",
   "execution_count": null,
   "metadata": {},
   "outputs": [],
   "source": [
    "# 위의 flow chart를 조건문을 통해 만들어봅시다.\n",
    "# 아래에 코드를 작성하세요."
   ]
  },
  {
   "cell_type": "code",
   "execution_count": null,
   "metadata": {},
   "outputs": [],
   "source": [
    "a = 0\n",
    "while a < 5:\n",
    "    print(a)\n",
    "    a += 1\n",
    "print('끝')"
   ]
  },
  {
   "cell_type": "markdown",
   "metadata": {},
   "source": [
    "### [연습] while 문 작성하기\n",
    "> 사용자가 \"안녕\"이라고 입력할 때까지 인사하는 코드를 작성해보세요."
   ]
  },
  {
   "cell_type": "code",
   "execution_count": null,
   "metadata": {},
   "outputs": [],
   "source": [
    "# 아래에 코드를 작성하세요.\n",
    "\n",
    "# \"자, 안녕이라고 말해봐!\"\n",
    "# \"싫은데\"\n",
    "# \"자, 안녕이라고 말해봐!\"\n",
    "# \"안녕\"\n",
    "# while문 끝"
   ]
  },
  {
   "cell_type": "code",
   "execution_count": 5,
   "metadata": {},
   "outputs": [
    {
     "name": "stdout",
     "output_type": "stream",
     "text": [
      "안녕이라고 말할 때까지 물어본다잉...!\n",
      "말해봐잉: 싫은데\n",
      "안녕이라고 말할 때까지 물어본다잉...!\n",
      "말해봐잉: 안녕\n",
      "프로그램 끝\n"
     ]
    }
   ],
   "source": [
    "user_input = ''\n",
    "\n",
    "while user_input != '안녕':\n",
    "    print('안녕이라고 말할 때까지 물어본다잉...!')\n",
    "    user_input = input('말해봐잉: ')\n",
    "\n",
    "print('프로그램 끝')"
   ]
  },
  {
   "cell_type": "markdown",
   "metadata": {},
   "source": [
    "### [실습] 합(Summation)\n",
    "\n",
    "> 1부터 사용자가 입력한 양의 정수까지의 총합을 구하는 코드를 작성해보세요.\n",
    "\n",
    "---\n",
    "**[입력 예시]**\n",
    "\n",
    "10\n",
    "\n",
    "**[출력 예시]**\n",
    "\n",
    "55"
   ]
  },
  {
   "cell_type": "code",
   "execution_count": null,
   "metadata": {},
   "outputs": [],
   "source": [
    "# 아래에 코드를 작성하세요.\n",
    "\n",
    "# 10\n",
    "# 1, 2, 3, ... 9, 10 -> 55"
   ]
  },
  {
   "cell_type": "code",
   "execution_count": 6,
   "metadata": {},
   "outputs": [
    {
     "name": "stdout",
     "output_type": "stream",
     "text": [
      "10\n",
      "55\n"
     ]
    }
   ],
   "source": [
    "user_input = int(input())  # 10\n",
    "\n",
    "n = 1  # 1부터 사용자가 입력한 양의 정수까지 카운트 (1, 2, 3, .... 10)\n",
    "total = 0  # 총합\n",
    "\n",
    "while n <= user_input:  # 카운트가 사용자가 입력한 수 이하인 경우\n",
    "    total += n  # 총합에 더하기\n",
    "    n += 1  # 다음 숫자로 카운트 올리기\n",
    "\n",
    "print(total)"
   ]
  },
  {
   "cell_type": "markdown",
   "metadata": {},
   "source": [
    "### [응용] 한자리 씩 출력하기\n",
    "\n",
    "> 사용자로부터 숫자 입력 받은 양의 정수의 각 자리 수를 1의 자리부터 차례대로 출력하는 코드를 작성해보세요.\n",
    "\n",
    "\n",
    "---\n",
    "**[입력 예시]**\n",
    "\n",
    "185\n",
    "\n",
    "**[출력 예시]**\n",
    "\n",
    "5\n",
    "\n",
    "8\n",
    "\n",
    "1"
   ]
  },
  {
   "cell_type": "code",
   "execution_count": null,
   "metadata": {},
   "outputs": [],
   "source": [
    "# 아래에 코드를 작성하세요."
   ]
  },
  {
   "cell_type": "code",
   "execution_count": 7,
   "metadata": {},
   "outputs": [
    {
     "name": "stdout",
     "output_type": "stream",
     "text": [
      "185\n",
      "5\n",
      "8\n",
      "1\n"
     ]
    }
   ],
   "source": [
    "n = int(input())\n",
    "\n",
    "while n > 0:\n",
    "    print(n % 10)   # 10으로 나눈 나머지 출력 (5 -> 8 -> 1)\n",
    "    n = n // 10  # 몫으로 덮어쓰기 (18 -> 1)"
   ]
  },
  {
   "cell_type": "code",
   "execution_count": 10,
   "metadata": {
    "scrolled": true
   },
   "outputs": [
    {
     "name": "stdout",
     "output_type": "stream",
     "text": [
      "185\n",
      "5\n",
      "8\n",
      "1\n"
     ]
    }
   ],
   "source": [
    "n = input()\n",
    "\n",
    "for i in n[::-1]:\n",
    "    print(i)"
   ]
  },
  {
   "cell_type": "markdown",
   "metadata": {},
   "source": [
    "## `for` 문\n",
    "\n",
    "`for` 문은 시퀀스(string, tuple, list, range)나 다른 순회가능한 객체(iterable)의 요소들을 순회한다.\n",
    "\n",
    "---\n",
    "\n",
    "### 활용법\n",
    "- **문법**\n",
    "\n",
    "```python\n",
    "for <임시변수> in <순회가능한데이터(iterable)>:\n",
    "    <코드 블럭>\n",
    "```\n",
    "\n",
    "- **예시**\n",
    "\n",
    "```python\n",
    "for menu in ['김밥', '햄버거', '피자', '라면']:\n",
    "    print(menu)\n",
    "```"
   ]
  },
  {
   "cell_type": "markdown",
   "metadata": {},
   "source": [
    "<center>\n",
    "    <img src=\"https://user-images.githubusercontent.com/18046097/61180565-3a2c7800-a653-11e9-806a-28838248de31.png\", alt=\"\">\n",
    "</center>"
   ]
  },
  {
   "cell_type": "code",
   "execution_count": null,
   "metadata": {},
   "outputs": [],
   "source": [
    "# flowchart를 for문을 통해 코드로 작성해봅시다.\n",
    "# 아래에 코드를 작성하세요."
   ]
  },
  {
   "cell_type": "code",
   "execution_count": 23,
   "metadata": {},
   "outputs": [
    {
     "name": "stdout",
     "output_type": "stream",
     "text": [
      "0\n",
      "1\n",
      "2\n",
      "3\n",
      "4\n",
      "5\n",
      "6\n",
      "7\n",
      "8\n",
      "9\n"
     ]
    }
   ],
   "source": [
    "# range(10) => 0 ~ 9\n",
    "for i in range(10):\n",
    "    # i = 하나씩 꺼내서 i에 저장!\n",
    "    print(i)"
   ]
  },
  {
   "cell_type": "code",
   "execution_count": 24,
   "metadata": {},
   "outputs": [
    {
     "name": "stdout",
     "output_type": "stream",
     "text": [
      "강\n",
      "대\n",
      "영\n"
     ]
    }
   ],
   "source": [
    "for char in '강대영':\n",
    "    # char = '강', chart = '대', ..\n",
    "    print(char)"
   ]
  },
  {
   "cell_type": "markdown",
   "metadata": {},
   "source": [
    "![for animation](https://user-images.githubusercontent.com/18046097/61180563-3a2c7800-a653-11e9-8a7a-c7d6e6b30141.gif)"
   ]
  },
  {
   "cell_type": "markdown",
   "metadata": {},
   "source": [
    "`for` 문에서 요소 값에 다른 값을 할당해도 다음 반복구문에 영향을 주지 않는다.\n",
    "\n",
    "다음 요소 값에 의해 덮어 씌워지기 때문이다."
   ]
  },
  {
   "cell_type": "code",
   "execution_count": null,
   "metadata": {},
   "outputs": [],
   "source": [
    "# for 문 안에서 임시 변수에 다른 값을 할당해도 반복구문에 영향을 주지 않습니다."
   ]
  },
  {
   "cell_type": "code",
   "execution_count": 25,
   "metadata": {},
   "outputs": [
    {
     "name": "stdout",
     "output_type": "stream",
     "text": [
      "0\n",
      "1\n",
      "2\n"
     ]
    }
   ],
   "source": [
    "for i in range(3):\n",
    "    # i = 0, i = 1, i = 2\n",
    "    print(i)\n",
    "    i = 5"
   ]
  },
  {
   "cell_type": "markdown",
   "metadata": {},
   "source": [
    "### [연습] for 문 작성하기\n",
    "> `for` 문을 활용하여 사용자가 입력한 문자를 한글자씩 출력해보세요.\n",
    "\n",
    "---\n",
    "**[입력 예시]**\n",
    "```\n",
    "문자를 입력하세요 : 안녕!\n",
    "```\n",
    "\n",
    "\n",
    "**[출력 예시]**\n",
    "\n",
    "```\n",
    "안\n",
    "녕\n",
    "!\n",
    "```"
   ]
  },
  {
   "cell_type": "code",
   "execution_count": null,
   "metadata": {},
   "outputs": [],
   "source": [
    "# 아래에 코드를 작성하세요."
   ]
  },
  {
   "cell_type": "code",
   "execution_count": 11,
   "metadata": {},
   "outputs": [
    {
     "name": "stdout",
     "output_type": "stream",
     "text": [
      "문자를 입력하세요 : 안녕!\n",
      "안\n",
      "녕\n",
      "!\n"
     ]
    }
   ],
   "source": [
    "chars = input('문자를 입력하세요 : ')\n",
    "\n",
    "for char in chars:\n",
    "    print(char)\n"
   ]
  },
  {
   "cell_type": "markdown",
   "metadata": {},
   "source": [
    "###  [실습] for 문과 if 문 작성하기\n",
    "\n",
    "> 반복문과 조건문만 활용하여 1~30까지 숫자 중에 홀수만 출력해보세요.\n",
    "\n",
    "---\n",
    "\n",
    "**[출력 예시]**\n",
    "\n",
    "```\n",
    "1\n",
    "3\n",
    "5\n",
    "...\n",
    "27\n",
    "29\n",
    "```"
   ]
  },
  {
   "cell_type": "code",
   "execution_count": null,
   "metadata": {},
   "outputs": [],
   "source": [
    "# 아래에 코드를 작성하세요."
   ]
  },
  {
   "cell_type": "code",
   "execution_count": 14,
   "metadata": {},
   "outputs": [
    {
     "name": "stdout",
     "output_type": "stream",
     "text": [
      "1\n",
      "3\n",
      "5\n",
      "7\n",
      "9\n",
      "11\n",
      "13\n",
      "15\n",
      "17\n",
      "19\n",
      "21\n",
      "23\n",
      "25\n",
      "27\n",
      "29\n"
     ]
    }
   ],
   "source": [
    "for i in range(1, 31):\n",
    "    if i % 2:\n",
    "        print(i)"
   ]
  },
  {
   "cell_type": "markdown",
   "metadata": {},
   "source": [
    "### 리스트(list) 순회에서 index의 활용하기\n",
    "\n",
    "#### `range(리스트의 길이)`\n",
    "`range()`와 순회할 list의 길이를 활용하여 index를 조작 가능"
   ]
  },
  {
   "cell_type": "code",
   "execution_count": null,
   "metadata": {},
   "outputs": [],
   "source": [
    "# range 함수로 0~3 범위를 반복하는 for 문을 작성해봅시다."
   ]
  },
  {
   "cell_type": "code",
   "execution_count": null,
   "metadata": {},
   "outputs": [],
   "source": []
  },
  {
   "cell_type": "code",
   "execution_count": 27,
   "metadata": {},
   "outputs": [],
   "source": [
    "# range(리스트의 길이)를 활용해서 출력해봅시다.\n",
    "lunch = ['짜장면', '초밥', '피자', '햄버거']"
   ]
  },
  {
   "cell_type": "code",
   "execution_count": 29,
   "metadata": {},
   "outputs": [
    {
     "name": "stdout",
     "output_type": "stream",
     "text": [
      "짜장면\n",
      "초밥\n",
      "피자\n",
      "햄버거\n"
     ]
    }
   ],
   "source": [
    "for idx in range(len(lunch)):\n",
    "#     print(idx)\n",
    "    print(lunch[idx])"
   ]
  },
  {
   "cell_type": "code",
   "execution_count": 30,
   "metadata": {},
   "outputs": [
    {
     "name": "stdout",
     "output_type": "stream",
     "text": [
      "짜장면\n",
      "초밥\n",
      "피자\n",
      "햄버거\n"
     ]
    }
   ],
   "source": [
    "for menu in lunch:\n",
    "    print(menu)"
   ]
  },
  {
   "cell_type": "code",
   "execution_count": null,
   "metadata": {},
   "outputs": [],
   "source": [
    "# 순서를 함께 출력해봅시다."
   ]
  },
  {
   "cell_type": "markdown",
   "metadata": {},
   "source": [
    "#### `enumerate()`\n",
    "인덱스(index)와 값(value)을 함께 활용 가능\n",
    "\n",
    "> `enumerate()`를 활용하면, 추가적인 변수를 활용할 수 있습니다.\n",
    "- `enumerate()`는 [내장 함수](https://docs.python.org/ko/3.6/library/functions.html) 중 하나이며, 다음과 같이 구성되어 있습니다.\n",
    ">\n",
    "> <center>\n",
    "    <img src=\"https://user-images.githubusercontent.com/18046097/61180561-3993e180-a653-11e9-9558-085c9a0ad65d.png\", alt=\"enumerate\">\n",
    "</center>"
   ]
  },
  {
   "cell_type": "code",
   "execution_count": 15,
   "metadata": {},
   "outputs": [],
   "source": [
    "# enumerate()를 활용해서 출력해봅시다.\n",
    "lunch = ['짜장면', '초밥', '피자', '햄버거']"
   ]
  },
  {
   "cell_type": "code",
   "execution_count": 18,
   "metadata": {},
   "outputs": [
    {
     "name": "stdout",
     "output_type": "stream",
     "text": [
      "0 짜장면\n",
      "1 초밥\n",
      "2 피자\n",
      "3 햄버거\n"
     ]
    }
   ],
   "source": [
    "for idx, menu in enumerate(lunch):\n",
    "    print(idx, menu)\n"
   ]
  },
  {
   "cell_type": "code",
   "execution_count": null,
   "metadata": {},
   "outputs": [],
   "source": [
    "# enumerate()를 사용하였을 때 어떻게 표현이 되는지 확인해봅시다."
   ]
  },
  {
   "cell_type": "code",
   "execution_count": 22,
   "metadata": {},
   "outputs": [
    {
     "name": "stdout",
     "output_type": "stream",
     "text": [
      "<class 'tuple'>\n"
     ]
    }
   ],
   "source": [
    "classroom = ['Kim', 'Hong', 'Kang']\n",
    "\n",
    "class_list = list(enumerate(classroom))\n",
    "print(type(class_list[0]))"
   ]
  },
  {
   "cell_type": "code",
   "execution_count": null,
   "metadata": {},
   "outputs": [],
   "source": [
    "# 숫자를 1부터 카운트 할 수도 있습니다."
   ]
  },
  {
   "cell_type": "code",
   "execution_count": 23,
   "metadata": {},
   "outputs": [
    {
     "name": "stdout",
     "output_type": "stream",
     "text": [
      "1 짜장면\n",
      "2 초밥\n",
      "3 피자\n",
      "4 햄버거\n"
     ]
    }
   ],
   "source": [
    "for idx, menu in enumerate(lunch, start=1):\n",
    "    print(idx, menu)"
   ]
  },
  {
   "cell_type": "code",
   "execution_count": 24,
   "metadata": {
    "scrolled": true
   },
   "outputs": [
    {
     "data": {
      "text/plain": [
       "[(1, '짜장면'), (2, '초밥'), (3, '피자'), (4, '햄버거')]"
      ]
     },
     "execution_count": 24,
     "metadata": {},
     "output_type": "execute_result"
    }
   ],
   "source": [
    "list(enumerate(lunch, start=1))"
   ]
  },
  {
   "cell_type": "markdown",
   "metadata": {},
   "source": [
    "## 반복제어(`break`, `continue`, `for-else`)"
   ]
  },
  {
   "cell_type": "markdown",
   "metadata": {},
   "source": [
    "### `break` \n",
    "\n",
    "반복문을 종료한다.\n",
    "\n",
    "* `for` 나 `while` 문에서 빠져나간다."
   ]
  },
  {
   "cell_type": "code",
   "execution_count": null,
   "metadata": {},
   "outputs": [],
   "source": [
    "# while 문에서 break를 활용해봅시다."
   ]
  },
  {
   "cell_type": "code",
   "execution_count": 25,
   "metadata": {},
   "outputs": [
    {
     "name": "stdout",
     "output_type": "stream",
     "text": [
      "0\n",
      "1\n",
      "2\n"
     ]
    }
   ],
   "source": [
    "n = 0\n",
    "while n < 3:\n",
    "    print(n)\n",
    "    n += 1"
   ]
  },
  {
   "cell_type": "code",
   "execution_count": 26,
   "metadata": {},
   "outputs": [
    {
     "name": "stdout",
     "output_type": "stream",
     "text": [
      "0\n",
      "1\n",
      "2\n"
     ]
    }
   ],
   "source": [
    "# \n",
    "n = 0\n",
    "while True:\n",
    "    if n == 3:\n",
    "        break\n",
    "    print(n)\n",
    "    n += 1"
   ]
  },
  {
   "cell_type": "code",
   "execution_count": null,
   "metadata": {},
   "outputs": [],
   "source": [
    "# for 문에서도 break를 사용할 수 있습니다."
   ]
  },
  {
   "cell_type": "code",
   "execution_count": 28,
   "metadata": {},
   "outputs": [
    {
     "name": "stdout",
     "output_type": "stream",
     "text": [
      "0\n",
      "1\n",
      "난 0과 1만 필요해. 나가.\n"
     ]
    }
   ],
   "source": [
    "# 0이랑 1만 필요한 경우\n",
    "\n",
    "for i in range(10):\n",
    "    if i > 1:\n",
    "        print('난 0과 1만 필요해. 나가.')\n",
    "        break\n",
    "    print(i)"
   ]
  },
  {
   "cell_type": "markdown",
   "metadata": {},
   "source": [
    "### [연습] `break` 활용하기\n",
    "\n",
    "> 조건문과 반복문, `break`를 활용하여 리스트에서 쌀이 나왔을때 `for` 문을 멈추는 코드를 작성하세요.\n",
    "\n",
    "---\n",
    "\n",
    "**[출력 예시]**\n",
    "\n",
    "보리\n",
    "\n",
    "보리\n",
    "\n",
    "쌀\n",
    "\n",
    "잡았다!"
   ]
  },
  {
   "cell_type": "code",
   "execution_count": 29,
   "metadata": {},
   "outputs": [],
   "source": [
    "rice = ['보리', '보리', '보리', '쌀', '보리']\n",
    "\n",
    "# 아래에 코드를 작성하세요."
   ]
  },
  {
   "cell_type": "code",
   "execution_count": 31,
   "metadata": {
    "scrolled": true
   },
   "outputs": [
    {
     "name": "stdout",
     "output_type": "stream",
     "text": [
      "보리\n",
      "보리\n",
      "보리\n",
      "쌀\n",
      "잡았따!\n"
     ]
    }
   ],
   "source": [
    "for i in rice:\n",
    "    print(i)\n",
    "    if i == '쌀':\n",
    "        print('잡았따!')\n",
    "        break"
   ]
  },
  {
   "cell_type": "markdown",
   "metadata": {},
   "source": [
    "### `continue`\n",
    "\n",
    "`continue`문은 continue 이후의 코드를 수행하지 않고 *다음 요소부터 계속(continue)하여* 반복을 수행한다."
   ]
  },
  {
   "cell_type": "code",
   "execution_count": null,
   "metadata": {},
   "outputs": [],
   "source": [
    "# continue 문을 활용해봅시다."
   ]
  },
  {
   "cell_type": "code",
   "execution_count": 32,
   "metadata": {
    "ExecuteTime": {
     "end_time": "2021-01-15T08:54:19.617198Z",
     "start_time": "2021-01-15T08:54:19.615196Z"
    }
   },
   "outputs": [
    {
     "name": "stdout",
     "output_type": "stream",
     "text": [
      "1는 홀수야!\n",
      "3는 홀수야!\n",
      "5는 홀수야!\n",
      "7는 홀수야!\n",
      "9는 홀수야!\n"
     ]
    }
   ],
   "source": [
    "for i in range(10):\n",
    "    if i % 2 == 0:  # 짝수인 경우\n",
    "        continue\n",
    "    \n",
    "    print(f'{i}는 홀수야!')"
   ]
  },
  {
   "cell_type": "markdown",
   "metadata": {},
   "source": [
    "### [연습] `continue` 문 작성하기\n",
    "\n",
    "> 나이가 입력된 리스트가 있을때,\n",
    "> 조건문과 반복문, continue를 활용하여 20살 이상일때만 \"성인입니다\"라는 출력을 하는 코드를 작성하세요.\n",
    "\n",
    "---\n",
    "\n",
    "**[출력 예시]**\n",
    "\n",
    "23 살은 성인입니다.\n",
    "\n",
    "30 살은 성인입니다.\n",
    "\n",
    "25 살은 성인입니다.\n",
    "\n",
    "31 살은 성인입니다."
   ]
  },
  {
   "cell_type": "code",
   "execution_count": 33,
   "metadata": {},
   "outputs": [],
   "source": [
    "ages = [10, 23, 8, 30, 25, 31]\n",
    "\n",
    "# 아래에 코드를 작성하세요."
   ]
  },
  {
   "cell_type": "code",
   "execution_count": 35,
   "metadata": {},
   "outputs": [
    {
     "name": "stdout",
     "output_type": "stream",
     "text": [
      "23살은 성인입니다.\n",
      "30살은 성인입니다.\n",
      "25살은 성인입니다.\n",
      "31살은 성인입니다.\n"
     ]
    }
   ],
   "source": [
    "for age in ages:\n",
    "    if age < 20:\n",
    "        continue\n",
    "    \n",
    "    print(f'{age}살은 성인입니다.')"
   ]
  },
  {
   "cell_type": "markdown",
   "metadata": {},
   "source": [
    "### `else`\n",
    "\n",
    "끝까지 반복문을 실행한 이후에 실행된다.\n",
    "- 반복에서 리스트의 소진이나 (`for` 의 경우) 조건이 거짓이 돼서 (`while` 의 경우) 종료할 때 실행된다. \n",
    "- 하지만 반복문이 **`break` 문으로 종료될 때는 실행되지 않는다.** (즉, `break`를 통해 중간에 종료되지 않은 경우만 실행)"
   ]
  },
  {
   "cell_type": "code",
   "execution_count": null,
   "metadata": {},
   "outputs": [],
   "source": [
    "# break가 안되는 상황을 만들어봅시다."
   ]
  },
  {
   "cell_type": "code",
   "execution_count": 47,
   "metadata": {},
   "outputs": [
    {
     "name": "stdout",
     "output_type": "stream",
     "text": [
      "0\n",
      "1\n",
      "2\n",
      "for문 정상 작동! else문 실행됨!\n"
     ]
    }
   ],
   "source": [
    "for i in range(3):\n",
    "    print(i)\n",
    "    if i == 100:\n",
    "        break\n",
    "else:\n",
    "    print('for문 정상 작동! else문 실행됨!')"
   ]
  },
  {
   "cell_type": "code",
   "execution_count": null,
   "metadata": {},
   "outputs": [],
   "source": [
    "# break가 되는 상황을 만들어봅시다."
   ]
  },
  {
   "cell_type": "code",
   "execution_count": 48,
   "metadata": {},
   "outputs": [
    {
     "name": "stdout",
     "output_type": "stream",
     "text": [
      "0\n",
      "1\n",
      "1에서 break 실행됨\n"
     ]
    }
   ],
   "source": [
    "for i in range(3):\n",
    "    print(i)\n",
    "    if i == 1:\n",
    "        print(f'{i}에서 break 실행됨')\n",
    "        break\n",
    "else:\n",
    "    print('for문 정상 작동! else문 실행됨!')"
   ]
  },
  {
   "cell_type": "markdown",
   "metadata": {},
   "source": [
    "### [연습] `for-else` 활용하기\n",
    "\n",
    "> 조건문과 반복문, break, else 를 통해서 아래의 코드와 동일한 코드를 작성하세요.\n",
    "* numbers 리스트에 4가 있을 경우 `True`를 출력하고, 없을 경우 `False`를 출력한다.\n",
    "\n",
    "---\n",
    "\n",
    "**[출력 예시]**\n",
    "\n",
    "`False`\n"
   ]
  },
  {
   "cell_type": "code",
   "execution_count": 49,
   "metadata": {},
   "outputs": [],
   "source": [
    "numbers = [1, 3, 7, 9]\n",
    "\n",
    "# 아래에 코드를 작성하세요."
   ]
  },
  {
   "cell_type": "code",
   "execution_count": 51,
   "metadata": {},
   "outputs": [
    {
     "name": "stdout",
     "output_type": "stream",
     "text": [
      "False\n"
     ]
    }
   ],
   "source": [
    "for num in numbers:\n",
    "    if num == 4:\n",
    "        print('True')\n",
    "        break\n",
    "else:\n",
    "    print('False')"
   ]
  },
  {
   "cell_type": "markdown",
   "metadata": {},
   "source": [
    "### `pass` \n",
    "아무것도 하지 않는다.\n",
    "* 문법적으로 문장이 필요하지만, 프로그램이 특별히 할 일이 없을 때 자리를 채우는 용도로 사용할 수 있다."
   ]
  },
  {
   "cell_type": "markdown",
   "metadata": {},
   "source": [
    "**`pass` 와 `continue` 차이**"
   ]
  },
  {
   "cell_type": "code",
   "execution_count": 55,
   "metadata": {
    "ExecuteTime": {
     "end_time": "2021-01-15T08:51:27.991236Z",
     "start_time": "2021-01-15T08:51:27.985231Z"
    }
   },
   "outputs": [
    {
     "name": "stdout",
     "output_type": "stream",
     "text": [
      "0\n",
      "1\n",
      "2\n",
      "3\n",
      "4\n"
     ]
    }
   ],
   "source": [
    "# pass\n",
    "\n",
    "for i in range(5):\n",
    "    if i == 3:\n",
    "        pass\n",
    "    print(i)"
   ]
  },
  {
   "cell_type": "code",
   "execution_count": 56,
   "metadata": {
    "ExecuteTime": {
     "end_time": "2021-01-15T08:51:33.024403Z",
     "start_time": "2021-01-15T08:51:33.013393Z"
    }
   },
   "outputs": [
    {
     "name": "stdout",
     "output_type": "stream",
     "text": [
      "0\n",
      "1\n",
      "2\n",
      "4\n"
     ]
    }
   ],
   "source": [
    "# continue\n",
    "\n",
    "for i in range(5):\n",
    "    if i == 3:\n",
    "        continue\n",
    "    print(i)"
   ]
  }
 ],
 "metadata": {
  "kernelspec": {
   "display_name": "Python 3",
   "language": "python",
   "name": "python3"
  },
  "language_info": {
   "codemirror_mode": {
    "name": "ipython",
    "version": 3
   },
   "file_extension": ".py",
   "mimetype": "text/x-python",
   "name": "python",
   "nbconvert_exporter": "python",
   "pygments_lexer": "ipython3",
   "version": "3.8.7"
  },
  "toc": {
   "base_numbering": 1,
   "nav_menu": {},
   "number_sections": true,
   "sideBar": true,
   "skip_h1_title": false,
   "title_cell": "제어문(Control Statement)",
   "title_sidebar": "제어문(Control Statement)",
   "toc_cell": false,
   "toc_position": {
    "height": "calc(100% - 180px)",
    "left": "10px",
    "top": "150px",
    "width": "240.792px"
   },
   "toc_section_display": true,
   "toc_window_display": false
  }
 },
 "nbformat": 4,
 "nbformat_minor": 2
}
