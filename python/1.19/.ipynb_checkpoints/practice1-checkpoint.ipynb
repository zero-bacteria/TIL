{
 "cells": [
  {
   "cell_type": "markdown",
   "metadata": {},
   "source": [
    "# Practice 1\n",
    "\n",
    "> 데이터 & 제어문"
   ]
  },
  {
   "cell_type": "markdown",
   "metadata": {},
   "source": [
    "## 갯수 구하기\n",
    "\n",
    "> 주어진 리스트의 요소는 학생 이름으로 구성되어 있다. 학생들의 수를 출력하시오.\n",
    "\n",
    "---\n",
    "\n",
    "```\n",
    "[출력 예시]\n",
    "3\n",
    "```"
   ]
  },
  {
   "cell_type": "code",
   "execution_count": 3,
   "metadata": {
    "ExecuteTime": {
     "end_time": "2020-07-20T07:21:43.556594Z",
     "start_time": "2020-07-20T07:21:43.553351Z"
    }
   },
   "outputs": [
    {
     "data": {
      "text/plain": [
       "3"
      ]
     },
     "execution_count": 3,
     "metadata": {},
     "output_type": "execute_result"
    }
   ],
   "source": [
    "students = ['김철수', '이영희', '조민지']\n",
    "\n",
    "\n",
    "\n",
    "# 아래에 코드를 작성하시오.\n",
    "len(students)\n"
   ]
  },
  {
   "cell_type": "markdown",
   "metadata": {},
   "source": [
    "## 득표수 구하기\n",
    "\n",
    "> 주어진 리스트는 반장 선거 투표 결과이다. 이영희의 총 득표수를 출력하시오.\n",
    "\n",
    "---\n",
    "\n",
    "```\n",
    "[출력 예시]\n",
    "4\n",
    "```"
   ]
  },
  {
   "cell_type": "code",
   "execution_count": 4,
   "metadata": {},
   "outputs": [
    {
     "data": {
      "text/plain": [
       "4"
      ]
     },
     "execution_count": 4,
     "metadata": {},
     "output_type": "execute_result"
    }
   ],
   "source": [
    "students = ['이영희', '김철수', '이영희', '조민지', '김철수', '조민지', '이영희', '이영희']\n",
    "\n",
    "# 아래에 코드를 작성하시오.\n",
    "\n",
    "students.count('이영희')\n"
   ]
  },
  {
   "cell_type": "markdown",
   "metadata": {},
   "source": [
    "## 최댓값 구하기\n",
    "\n",
    "> 주어진 리스트의 요소 중에서 최댓값을 출력하시오.\n",
    "\n",
    "---\n",
    "```\n",
    "[출력 예시]\n",
    "22\n",
    "```"
   ]
  },
  {
   "cell_type": "code",
   "execution_count": 5,
   "metadata": {},
   "outputs": [
    {
     "data": {
      "text/plain": [
       "22"
      ]
     },
     "execution_count": 5,
     "metadata": {},
     "output_type": "execute_result"
    }
   ],
   "source": [
    "numbers = [7, 10, 22, 4, 3, 17]\n",
    "\n",
    "# 아래에 코드를 작성하시오.\n",
    "\n",
    "max(numbers)\n",
    "\n"
   ]
  },
  {
   "cell_type": "markdown",
   "metadata": {},
   "source": [
    "## 최솟값 구하기\n",
    "\n",
    "> 주어진 리스트의 요소 중에서 최솟값을 출력하시오.\n",
    "---\n",
    "```\n",
    "[출력 예시]\n",
    "3\n",
    "```"
   ]
  },
  {
   "cell_type": "code",
   "execution_count": 2,
   "metadata": {},
   "outputs": [
    {
     "name": "stdout",
     "output_type": "stream",
     "text": [
      "3\n"
     ]
    }
   ],
   "source": [
    "numbers = [7, 10, 22, 4, 3, 17]\n",
    "\n",
    "# 아래에 코드를 작성하시오.\n",
    "min(numbers)\n",
    "\n",
    "#1. 변수 초기화\n",
    "min_value = numbers[0]\n",
    "\n",
    "#2. numbers 리스트를 순회( 반복)\n",
    "for number in numbers:\n",
    "    #3. 뽑은 숫자가 최솟값보다 작으면\n",
    "    if number < min_value:\n",
    "        #4. 교체한다\n",
    "        min_value = number\n",
    "print(min_value)"
   ]
  },
  {
   "cell_type": "markdown",
   "metadata": {},
   "source": [
    "## 최댓값과 등장 횟수 구하기\n",
    "\n",
    "> 주어진 리스트의 요소 중에서 최댓값과 등장 횟수를 출력하시오.\n",
    "\n",
    "---\n",
    "\n",
    "```\n",
    "[출력 예시]\n",
    "22 3\n",
    "```"
   ]
  },
  {
   "cell_type": "code",
   "execution_count": 5,
   "metadata": {
    "ExecuteTime": {
     "end_time": "2020-07-20T07:14:08.319167Z",
     "start_time": "2020-07-20T07:14:08.316606Z"
    }
   },
   "outputs": [
    {
     "name": "stdout",
     "output_type": "stream",
     "text": [
      "22 3\n",
      "22 3\n"
     ]
    }
   ],
   "source": [
    "numbers = [7, 10, 22, 7, 22, 22]\n",
    "\n",
    "# 아래에 코드를 작성하시오.\n",
    "m = max(numbers)\n",
    "c = numbers.count(m)\n",
    "\n",
    "print(m,c)\n",
    "\n",
    "# 1. 변수초기화\n",
    "max_value = numbers[0]\n",
    "count = 0\n",
    "\n",
    "#2. numbers 리스트 순회 (반복)\n",
    "for number in numbers:\n",
    "    #3. 뽑은 숫자가 max_value 보다 크면\n",
    "    if number > max_value:\n",
    "        #4. 교체한다.\n",
    "        max_value = number\n",
    "        count =1 # 카운트 초기화(새로운 최댓값으로 바뀌어서)\n",
    "    #5. 뽑은 숫자와 max_value가 같으면\n",
    "    elif number == max_value:\n",
    "        count+=1\n",
    "        \n",
    "print(max_value, count)        \n",
    "        \n",
    "\n"
   ]
  },
  {
   "cell_type": "markdown",
   "metadata": {},
   "source": [
    "## 5의 개수 구하기\n",
    "\n",
    "> 주어진 리스트의 요소 중에서 5의 개수를 출력하시오.\n",
    "---\n",
    "```\n",
    "[출력 예시]\n",
    "3\n",
    "```"
   ]
  },
  {
   "cell_type": "code",
   "execution_count": 6,
   "metadata": {},
   "outputs": [
    {
     "name": "stdout",
     "output_type": "stream",
     "text": [
      "5\n",
      "3\n"
     ]
    }
   ],
   "source": [
    "numbers = [7, 17, 10, 5, 4, 3, 17, 5, 2, 5]\n",
    "\n",
    "# 아래에 코드를 작성하시오.\n",
    "\n",
    "numbers.count(5)\n",
    "\n",
    "a= int(input())\n",
    "count = 0\n",
    "for i in numbers:\n",
    "    if i==a:\n",
    "        count+=1\n",
    "print(count)"
   ]
  },
  {
   "cell_type": "markdown",
   "metadata": {},
   "source": [
    "## 'a'가 싫어\n",
    "\n",
    "\n",
    "> 입력으로 짧은 영단어 word가 주어질 때, 해당 단어에서 'a'를 모두 제거한 결과를 출력하시오.\n",
    "\n",
    "---\n",
    "```\n",
    "[입력 예시]\n",
    "apple\n",
    "\n",
    "[출력 예시]\n",
    "pple\n",
    "```"
   ]
  },
  {
   "cell_type": "code",
   "execution_count": 7,
   "metadata": {},
   "outputs": [
    {
     "name": "stdout",
     "output_type": "stream",
     "text": [
      "apple\n",
      "pple\n"
     ]
    }
   ],
   "source": [
    "word = input()\n",
    "\n",
    "# 아래에 코드를 작성하시오.\n",
    "result=''\n",
    "\n",
    "\n",
    "for i in word:\n",
    "    if i !='a':\n",
    "        result+=i\n",
    "print(result)"
   ]
  },
  {
   "cell_type": "markdown",
   "metadata": {},
   "source": [
    "## 단어 뒤집기\n",
    "\n",
    "> 입력으로 짧은 영어단어 word가 주어질 때, 해당 단어를 역순으로 뒤집은 결과를 출력하시오.\n",
    "\n",
    "---\n",
    "```\n",
    "[입력 예시]\n",
    "apple\n",
    "\n",
    "[출력 예시]\n",
    "elppa\n",
    "```"
   ]
  },
  {
   "cell_type": "code",
   "execution_count": 10,
   "metadata": {},
   "outputs": [
    {
     "name": "stdout",
     "output_type": "stream",
     "text": [
      "apple\n",
      "elppa\n",
      "elppa\n"
     ]
    }
   ],
   "source": [
    "word = input()\n",
    "\n",
    "result=''\n",
    "# 아래에 코드를 작성하시오.\n",
    "for i in word[::-1]:\n",
    "    result+=i\n",
    "    \n",
    "print(result)\n",
    "# 그냥 print(word[::-1])해도 됨\n",
    "\n",
    "# 다른 방법\n",
    "result2=''\n",
    "for char in word:\n",
    "    result2 = char + result2\n",
    "        \n",
    "print(result2)\n",
    "\n",
    "    \n",
    "\n"
   ]
  }
 ],
 "metadata": {
  "kernelspec": {
   "display_name": "Python 3",
   "language": "python",
   "name": "python3"
  },
  "language_info": {
   "codemirror_mode": {
    "name": "ipython",
    "version": 3
   },
   "file_extension": ".py",
   "mimetype": "text/x-python",
   "name": "python",
   "nbconvert_exporter": "python",
   "pygments_lexer": "ipython3",
   "version": "3.8.7"
  },
  "toc": {
   "base_numbering": 1,
   "nav_menu": {},
   "number_sections": true,
   "sideBar": true,
   "skip_h1_title": false,
   "title_cell": "Table of Contents",
   "title_sidebar": "Contents",
   "toc_cell": false,
   "toc_position": {},
   "toc_section_display": true,
   "toc_window_display": false
  }
 },
 "nbformat": 4,
 "nbformat_minor": 4
}
