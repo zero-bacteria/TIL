{
 "cells": [
  {
   "cell_type": "markdown",
   "metadata": {},
   "source": [
    "# Workshop\n",
    "> 데이터 & 제어문"
   ]
  },
  {
   "cell_type": "markdown",
   "metadata": {},
   "source": [
    "## 1. 간단한 N의 약수 (SWEA #1933)\n",
    "\n",
    "> 입력으로 1개의 정수 N이 주어진다. 정수 N의 약수를 오름차순으로 출력하는 프로그램을 작성하시오.\n",
    "\n",
    "---\n",
    "\n",
    "```\n",
    "[제약 사항]\n",
    "N은 1이상 1,000이하의 정수이다. (1 ≤ N ≤ 1,000)\n",
    " \n",
    "[입력 예시]\n",
    "입력으로 정수 N이 주어진다.\n",
    "\n",
    "[출력 예시]\n",
    "정수 N의 모든 약수를 오름차순으로 출력한다.\n",
    "```"
   ]
  },
  {
   "cell_type": "code",
   "execution_count": 1,
   "metadata": {},
   "outputs": [
    {
     "name": "stdout",
     "output_type": "stream",
     "text": [
      "44\n",
      "1\n",
      "2\n",
      "4\n",
      "11\n",
      "22\n",
      "44\n"
     ]
    }
   ],
   "source": [
    "N = int(input())\n",
    "\n",
    "# 아래에 코드를 작성하시오.\n",
    "for i in range (1,N+1):\n",
    "    if not N%i:\n",
    "        print (i)\n",
    "    \n",
    "\n"
   ]
  },
  {
   "cell_type": "markdown",
   "metadata": {},
   "source": [
    "## 2. 중간값 찾기 (SWEA #2063 변형)\n",
    "\n",
    "> 중간값은 통계 집단의 수치를 크기 순으로 배열 했을 때 전체의 중앙에 위치하는 수치를 뜻한다. 리스트 numbers에 입력된 숫자에서 중간값을 출력하라.\n",
    "\n",
    "---\n",
    "```python\n",
    "[출력 예시]\n",
    "64\n",
    "```"
   ]
  },
  {
   "cell_type": "code",
   "execution_count": 10,
   "metadata": {},
   "outputs": [
    {
     "name": "stdout",
     "output_type": "stream",
     "text": [
      "64\n"
     ]
    }
   ],
   "source": [
    "numbers = [\n",
    "    85, 72, 38, 80, 69, 65, 68, 96, 22, 49, 67,\n",
    "    51, 61, 63, 87, 66, 24, 80, 83, 71, 60, 64, \n",
    "    52, 90, 60, 49, 31, 23, 99, 94, 11, 25, 24\n",
    "]\n",
    "\n",
    "# 아래에 코드를 작성하시오.\n",
    "s = sorted(numbers)\n",
    "\n",
    "n = len(s)\n",
    "\n",
    "if n%2:\n",
    "    result = s[((n//2))]\n",
    "else :\n",
    "    result = (s[n/2]+s[n/2+1])/2\n",
    "    print('예측된 중앙값 입니다.')\n",
    "    \n",
    "print(result)\n",
    "    \n",
    "    \n"
   ]
  },
  {
   "cell_type": "markdown",
   "metadata": {},
   "source": [
    "## 3. 계단 만들기\n",
    "\n",
    "> 자연수 number를 입력 받아, 아래와 같이 높이가 number인 내려가는 계단을 출력하시오.\n",
    "\n",
    "---\n",
    "```\n",
    "[입력 예시]\n",
    "4\n",
    "\n",
    "[출력 예시]\n",
    "1\n",
    "1 2\n",
    "1 2 3\n",
    "1 2 3 4\n",
    "```"
   ]
  },
  {
   "cell_type": "code",
   "execution_count": 23,
   "metadata": {},
   "outputs": [
    {
     "name": "stdout",
     "output_type": "stream",
     "text": [
      "5\n",
      "\n",
      "1\n",
      "12\n",
      "123\n",
      "1234\n"
     ]
    }
   ],
   "source": [
    "number = int(input())\n",
    "\n",
    "# 아래에 코드를 작성하시오.\n",
    "\n",
    "for i in range(1,number+1):\n",
    "    for k in range(1,i):\n",
    "        print(k, end='')\n",
    "    print()"
   ]
  }
 ],
 "metadata": {
  "kernelspec": {
   "display_name": "Python 3",
   "language": "python",
   "name": "python3"
  },
  "language_info": {
   "codemirror_mode": {
    "name": "ipython",
    "version": 3
   },
   "file_extension": ".py",
   "mimetype": "text/x-python",
   "name": "python",
   "nbconvert_exporter": "python",
   "pygments_lexer": "ipython3",
   "version": "3.8.7"
  },
  "toc": {
   "base_numbering": 1,
   "nav_menu": {},
   "number_sections": true,
   "sideBar": true,
   "skip_h1_title": false,
   "title_cell": "Table of Contents",
   "title_sidebar": "Contents",
   "toc_cell": false,
   "toc_position": {},
   "toc_section_display": true,
   "toc_window_display": false
  }
 },
 "nbformat": 4,
 "nbformat_minor": 4
}
